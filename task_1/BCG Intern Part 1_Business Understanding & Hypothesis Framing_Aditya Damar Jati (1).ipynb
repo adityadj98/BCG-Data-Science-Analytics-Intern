{
 "cells": [
  {
   "cell_type": "markdown",
   "metadata": {},
   "source": [
    "<center> <img src=\"https://upload.wikimedia.org/wikipedia/commons/3/36/BCG_Corporate_Logo.jpg\" width=\"100\"/>\n",
    "</center>\n",
    "\n",
    "# <center> Business Understanding & Hypothesis Framing </center>\n",
    "<font size=4> <center> <b> Author : <a href=\"https://www.linkedin.com/in/adityadj/\"> Aditya Damar Jati </a> </center></font>\n",
    "<font size=3> <center><i> <a href=\"https://www.bcg.com\">  BCG</a> Data Science & Analytics Intern</i></b></center> </font>\n"
   ]
  },
  {
   "cell_type": "markdown",
   "metadata": {},
   "source": [
    "---\n",
    "# Background Problems\n",
    "\n",
    "PowerCo is a major gas and electricity utility that supplies to corporate, SME (Small & Medium Enterprise), and residential customers. The power-liberalization of the energy market in Europe has led to significant customer churn, especially in the SME segment. They have partnered with BCG to help diagnose the source of churning SME customers.\n",
    "\n",
    "A fair hypothesis is that price changes affect customer churn. Therefore, it is helpful to know which customers are more (or less) likely to churn at their current price, for which a good predictive model could be useful.\n",
    "\n",
    "Moreover, for those customers that are at risk of churning, a discount might incentivize them to stay with our client. The head of the SME division is considering a 20% discount that is considered large enough to dissuade almost anyone from churning (especially those for whom price is the primary concern).\n",
    "\n",
    "The Associate Director (AD) held an initial team meeting to discuss various hypotheses, including churn due to price sensitivity. After discussion with your team, you have been asked to go deeper on the hypothesis that the churn is driven by the customers’ price sensitivities. \n",
    "\n",
    "Your AD wants an email with your thoughts on how the team should go about testing this hypothesis.\n",
    "\n",
    "The client plans to use the predictive model on the 1st working day of every month to indicate to which customers the 20% discount should be offered.\n",
    "\n",
    "<center> <img src=\"https://evsandbeyond.co.nz/wp-content/uploads/2020/09/powerco-logo.jpg\" width=\"150\"/>\n",
    "</center>"
   ]
  },
  {
   "cell_type": "markdown",
   "metadata": {},
   "source": [
    "---\n",
    "# Task\n",
    "### Main task\n",
    "Understand what is going on with the client and to think about how we would approach this problem and test the specific hypothesis.\n",
    "\n",
    "### Objective\n",
    "1. Formulate the hypothesis as a data science problem \n",
    "2. Lay out the major steps needed to test this hypothesis. \n",
    "3. Communicate your thoughts and findings in an email  to your AD as the solution\n",
    "4. Focusing on the data that we would need from the client and the analytical models we would use to test such a hypothesis.\n",
    "\n",
    "\n",
    "Hint: \n",
    "\n",
    "Remember what the key factors are for a customer deciding to stay with or switch providers\n",
    "Think of data sources and fields that could be used to explore the contribution of various factors to a customer’s possible action \n",
    "Ideally, what would a data frame of your choice look like – what should each column and row represent? \n",
    "What kind of exploratory analyses on the relevant fields can give more insights about the customer's churn behavior? \n",
    "\n",
    "Estimated time for task completion: 1 hour depending on your learning style. "
   ]
  },
  {
   "cell_type": "markdown",
   "metadata": {},
   "source": [
    "---\n",
    "# PowerCo Problem Contex\n",
    "\n",
    "### Contex\n",
    "1. Client is a major gas and electricity utility (Supplies to corporate, SME and residential customers)\n",
    "2. Significant churn problem ( Driven by power-liberalization of the energy market in Europe and Problem is largest in the SME segment)\n",
    "3. Has engaged BCG to help with the SME segment\n",
    "\n",
    "### Clients Hypothesis\n",
    "1. It is possible to predict customers likely to churn using a predictive model \n",
    "2. Hypothesis that churn is driven by customer price sensitivity\n",
    "Client wants to try discounting strategy : SME division head suggests that offering customers at high propensity to churn a 20% discount might be effective"
   ]
  },
  {
   "cell_type": "markdown",
   "metadata": {},
   "source": [
    "---\n",
    "# Solution\n",
    "\n",
    "Hi [AD],\n",
    "\n",
    "In order to test the hypothesis of whether churn is driven by the customer's price sensitivity, we\n",
    "would need to model churn probabilities of customers, and derive the effect of prices on churn\n",
    "rates. We would need the following data to be able to build the models.\n",
    "\n",
    "Data needed:\n",
    "1. Customer data - which should include characteristics of each client, for example,\n",
    "industry, historical electricity consumption, date joined as customer etc.\n",
    "2. Churn data - which should indicate if customer has churned\n",
    "3. Historical price data – which should indicate the prices the client charges to each\n",
    "customer for both electricity and gas at granular time intervals\n",
    "\n",
    "Once we have the data, the work plan would be:\n",
    "1. We would need to define what price sensitivity is and calculate it.\n",
    "2. We would need to engineer features based on the data that we obtain, and build a\n",
    "binary classification model (e.g. Logistic Regression, Random Forest, Gradient Boosted\n",
    "Machines to name a few),\n",
    "3. The best model would be picked based on the tradeoff between the complexity, the\n",
    "explainability, and the accuracy of the models.\n",
    "4. We would subsequently dive deeper into why and how price changes impact churn.\n",
    "5. Last but not least, the model would allow us to size the business impact of the client’s\n",
    "proposed discounting strategy.\n",
    "\n",
    "Regards,\n",
    "\n",
    "<a href=\"https://www.linkedin.com/in/adityadj/\"> Aditya Damar Jati </a>\n"
   ]
  },
  {
   "cell_type": "markdown",
   "metadata": {},
   "source": []
  }
 ],
 "metadata": {
  "kernelspec": {
   "display_name": "Python 3 (ipykernel)",
   "language": "python",
   "name": "python3"
  },
  "language_info": {
   "codemirror_mode": {
    "name": "ipython",
    "version": 3
   },
   "file_extension": ".py",
   "mimetype": "text/x-python",
   "name": "python",
   "nbconvert_exporter": "python",
   "pygments_lexer": "ipython3",
   "version": "3.9.7"
  },
  "vscode": {
   "interpreter": {
    "hash": "a5a87ee616be0254e3f1af9223138e3faeac65b2c9d91bc22a9fc5a4a8bd8eb0"
   }
  }
 },
 "nbformat": 4,
 "nbformat_minor": 2
}
